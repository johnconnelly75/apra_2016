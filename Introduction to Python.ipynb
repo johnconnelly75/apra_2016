{
 "cells": [
  {
   "cell_type": "markdown",
   "metadata": {},
   "source": [
    "# The Basics\n",
    "4 common ways to running a python program\n",
    "- python interactive shell\n",
    "    - Best for quick and dirty instructions\n",
    "- Terminal & .py files\n",
    "    - Most likely the way you'll write most of your programs\n",
    "- ipython\n",
    "    - More features than the native python shell\n",
    "- jupyter notebook\n",
    "    - What this is written in\n",
    "    - Another great way to develop and experiment\n",
    "    - Great for exploring data\n",
    "    \n",
    "https://docs.python.org/3/tutorial/introduction.html\n",
    "\n",
    "## Data Types and Structures\n",
    "- Int, Integers, Numbers\n",
    "- Floats, Decimals\n",
    "- Str, Strings, Characters\n",
    "- Lists\n",
    "- Dictionary\n",
    "- Sets\n",
    "\n",
    "## Comments \n",
    "Comments allow you to describe what the code is doing. Code is meant to be read by humans and often times it's easy to make it unreadable. Writing appropriate comments allow you to revisit it in the future and know what each code section does and why. They can be as verbose as you need. \n",
    "\n",
    "## Assignment (=) vs. Equivalance (==)\n",
    "Assignment means you're assigning a value to a variable (see below). \n",
    "\n",
    "Equivalance is how you test if a value is equal to another value.\n",
    "\n",
    "## Variables\n",
    "Variables store values. Magic of programming is the ability to store values and reuse them throughout the program. They can change and shift depending on what you write. \n",
    "\n",
    "You can name a variable anything as long as it obeys three rules:\n",
    "- It can be only one word\n",
    "- It can use only letters, numbers, and the underscore\n",
    "- It can't begin with a number\n",
    "\n",
    "A good variable name describes the data it contains. Imagine that you moved to a new house and labelled all of your moving boxes as 'Stuff'. \n",
    "\n",
    "## Control\n",
    "Python, as well as most (if not all) programming languages, read scripts / files like most of you read books: from left to right and top to bottom. \n",
    "- if else\n",
    "- elif\n",
    "\n",
    "===================================================="
   ]
  },
  {
   "cell_type": "markdown",
   "metadata": {},
   "source": [
    "## Integers"
   ]
  },
  {
   "cell_type": "code",
   "execution_count": null,
   "metadata": {
    "collapsed": false
   },
   "outputs": [],
   "source": [
    "1 + 1"
   ]
  },
  {
   "cell_type": "code",
   "execution_count": null,
   "metadata": {
    "collapsed": false
   },
   "outputs": [],
   "source": [
    "2 * 2"
   ]
  },
  {
   "cell_type": "code",
   "execution_count": null,
   "metadata": {
    "collapsed": false
   },
   "outputs": [],
   "source": [
    "8 / 2"
   ]
  },
  {
   "cell_type": "code",
   "execution_count": null,
   "metadata": {
    "collapsed": false
   },
   "outputs": [],
   "source": [
    "8 % 3"
   ]
  },
  {
   "cell_type": "code",
   "execution_count": null,
   "metadata": {
    "collapsed": false
   },
   "outputs": [],
   "source": [
    "2 ** 4"
   ]
  },
  {
   "cell_type": "code",
   "execution_count": null,
   "metadata": {
    "collapsed": false
   },
   "outputs": [],
   "source": [
    "8 + (7*3) "
   ]
  },
  {
   "cell_type": "markdown",
   "metadata": {},
   "source": [
    "## Math Operators\n",
    "- exponential -- (**)\n",
    "- modulus / remainder -- (%)\n",
    "- integer division/floored quotient -- (//)\n",
    "- division -- (/)\n",
    "- multiplication -- (*)\n",
    "- subtraction -- (-)\n",
    "- addition -- (+)"
   ]
  },
  {
   "cell_type": "markdown",
   "metadata": {},
   "source": [
    "## Equivalance and Variables"
   ]
  },
  {
   "cell_type": "code",
   "execution_count": null,
   "metadata": {
    "collapsed": false
   },
   "outputs": [],
   "source": [
    "'John' == 'John'"
   ]
  },
  {
   "cell_type": "code",
   "execution_count": null,
   "metadata": {
    "collapsed": false
   },
   "outputs": [],
   "source": [
    "'John' == 'john'"
   ]
  },
  {
   "cell_type": "code",
   "execution_count": null,
   "metadata": {
    "collapsed": false
   },
   "outputs": [],
   "source": [
    "42 == '42'"
   ]
  },
  {
   "cell_type": "code",
   "execution_count": null,
   "metadata": {
    "collapsed": false
   },
   "outputs": [],
   "source": [
    "42 == 42"
   ]
  },
  {
   "cell_type": "code",
   "execution_count": null,
   "metadata": {
    "collapsed": true
   },
   "outputs": [],
   "source": [
    "# This is a variable\n",
    "var1 = \"This is a string assigned to a variable\""
   ]
  },
  {
   "cell_type": "code",
   "execution_count": null,
   "metadata": {
    "collapsed": true
   },
   "outputs": [],
   "source": [
    "var2 = 40"
   ]
  },
  {
   "cell_type": "code",
   "execution_count": null,
   "metadata": {
    "collapsed": true
   },
   "outputs": [],
   "source": [
    "# Variables should be descriptive\n",
    "age = 29\n",
    "name = \"John\""
   ]
  },
  {
   "cell_type": "code",
   "execution_count": null,
   "metadata": {
    "collapsed": true
   },
   "outputs": [],
   "source": [
    "# Variables cannot contain spaces, but if you need a phrase, just use an underscore\n",
    "total_giving = 940"
   ]
  },
  {
   "cell_type": "code",
   "execution_count": null,
   "metadata": {
    "collapsed": false
   },
   "outputs": [],
   "source": [
    "# You can also add to the variable. \n",
    "total_giving = total_giving + 50\n",
    "print(total_giving)\n",
    "\n",
    "# shorthand for this is to do the following:\n",
    "total_giving += 50\n",
    "# Basically, if setting a variable equal to itself with some kind of arithmetic modification, then you can use the shorthand above\n",
    "print(total_giving)\n"
   ]
  },
  {
   "cell_type": "code",
   "execution_count": null,
   "metadata": {
    "collapsed": true
   },
   "outputs": [],
   "source": [
    "# Allows you to do some math\n",
    "real_estate = 1503903 # numbers/integers can't be written with commas...\n",
    "re_multiple = 0.15\n",
    "capacity = real_estate * re_multiple"
   ]
  },
  {
   "cell_type": "code",
   "execution_count": null,
   "metadata": {
    "collapsed": true
   },
   "outputs": [],
   "source": []
  },
  {
   "cell_type": "markdown",
   "metadata": {},
   "source": [
    "## Floats"
   ]
  },
  {
   "cell_type": "code",
   "execution_count": null,
   "metadata": {
    "collapsed": false
   },
   "outputs": [],
   "source": [
    "1.0 + 1.0"
   ]
  },
  {
   "cell_type": "markdown",
   "metadata": {},
   "source": [
    "## Strings"
   ]
  },
  {
   "cell_type": "code",
   "execution_count": null,
   "metadata": {
    "collapsed": false
   },
   "outputs": [],
   "source": [
    "'This is a string...'"
   ]
  },
  {
   "cell_type": "code",
   "execution_count": null,
   "metadata": {
    "collapsed": false
   },
   "outputs": [],
   "source": [
    "this_string = '84'"
   ]
  },
  {
   "cell_type": "code",
   "execution_count": null,
   "metadata": {
    "collapsed": false
   },
   "outputs": [],
   "source": [
    "this_string + 2"
   ]
  },
  {
   "cell_type": "code",
   "execution_count": null,
   "metadata": {
    "collapsed": true
   },
   "outputs": [],
   "source": [
    "this_number = int(this_string)"
   ]
  },
  {
   "cell_type": "code",
   "execution_count": null,
   "metadata": {
    "collapsed": false
   },
   "outputs": [],
   "source": [
    "this_number + 2"
   ]
  },
  {
   "cell_type": "code",
   "execution_count": null,
   "metadata": {
    "collapsed": false
   },
   "outputs": [],
   "source": [
    "\"Also a string\""
   ]
  },
  {
   "cell_type": "code",
   "execution_count": null,
   "metadata": {
    "collapsed": false
   },
   "outputs": [],
   "source": [
    "\"\"\"This is a multiline \n",
    "quote\"\"\""
   ]
  },
  {
   "cell_type": "code",
   "execution_count": null,
   "metadata": {
    "collapsed": false
   },
   "outputs": [],
   "source": [
    "'''Also, a multiline\n",
    "quote'''"
   ]
  },
  {
   "cell_type": "code",
   "execution_count": null,
   "metadata": {
    "collapsed": false
   },
   "outputs": [],
   "source": [
    "'If you need to use the same quote in the string, you can use the backslash \\' like that' "
   ]
  },
  {
   "cell_type": "code",
   "execution_count": null,
   "metadata": {
    "collapsed": false
   },
   "outputs": [],
   "source": [
    "'Python will ignore what\\'s behind the backslash' "
   ]
  },
  {
   "cell_type": "code",
   "execution_count": null,
   "metadata": {
    "collapsed": false
   },
   "outputs": [],
   "source": [
    "'low'"
   ]
  },
  {
   "cell_type": "code",
   "execution_count": null,
   "metadata": {
    "collapsed": false
   },
   "outputs": [],
   "source": [
    "'Doesn't work'"
   ]
  },
  {
   "cell_type": "code",
   "execution_count": null,
   "metadata": {
    "collapsed": false
   },
   "outputs": [],
   "source": [
    "\"This won't break\""
   ]
  },
  {
   "cell_type": "code",
   "execution_count": null,
   "metadata": {
    "collapsed": false
   },
   "outputs": [],
   "source": [
    "\"This is bad'"
   ]
  },
  {
   "cell_type": "markdown",
   "metadata": {},
   "source": [
    "## String Concatenation and Replication\n",
    "The meaning of an operator may change based on the data types of the values next to it. For example, + is the addition operator when it operates on two integers or floating-point values. However, when + is used on two string values, it joins the strings as the string concatenation operator. \n",
    "\n",
    "The * operator is used for multiplication when it operates on two integer or floating-point values. But when the * operator is used on one string value and one integer value, it becomes the string replication operator."
   ]
  },
  {
   "cell_type": "code",
   "execution_count": null,
   "metadata": {
    "collapsed": false
   },
   "outputs": [],
   "source": [
    "# string concatenation\n",
    "'light' + 'house'"
   ]
  },
  {
   "cell_type": "code",
   "execution_count": null,
   "metadata": {
    "collapsed": false
   },
   "outputs": [],
   "source": [
    "# string replication\n",
    "'Alice' * 5"
   ]
  },
  {
   "cell_type": "markdown",
   "metadata": {},
   "source": [
    "### String slicing\n",
    "Each character with a string is assigned an index. You can access that index via square brackets on the string itself or the variable to which it is assigned. \n",
    "\n",
    "Indexes in python refer to a numerical value that references the position of the character or item. It is zero-based, meaning that the first number in the index starts at 0. "
   ]
  },
  {
   "cell_type": "code",
   "execution_count": null,
   "metadata": {
    "collapsed": false
   },
   "outputs": [],
   "source": [
    "'lighthouse'[4:8]"
   ]
  },
  {
   "cell_type": "code",
   "execution_count": null,
   "metadata": {
    "collapsed": false
   },
   "outputs": [],
   "source": [
    "for ix, x in enumerate(list('lighthouse')):\n",
    "    print(ix, '-->', x)"
   ]
  },
  {
   "cell_type": "code",
   "execution_count": null,
   "metadata": {
    "collapsed": false
   },
   "outputs": [],
   "source": [
    "'lighthouse'[0]"
   ]
  },
  {
   "cell_type": "code",
   "execution_count": null,
   "metadata": {
    "collapsed": false
   },
   "outputs": [],
   "source": [
    "'lighthouse'[-1]"
   ]
  },
  {
   "cell_type": "markdown",
   "metadata": {},
   "source": [
    "### String Methods (a basic intro)\n",
    "https://docs.python.org/3/library/stdtypes.html#string-methods \n",
    "\n",
    "Methods are functions tied to the string object that can manipulate it or act on it in various ways. Ther are methods for many scenarios, like if you wanted to get rid of trailing spaces, capitalize the first word, see if the string starts or ends a certain way, split on some delimiter, replace certain parts of the string with something else (or remove characters you don't want in the string), and many others."
   ]
  },
  {
   "cell_type": "code",
   "execution_count": null,
   "metadata": {
    "collapsed": false
   },
   "outputs": [],
   "source": [
    "# The split method splits on some delimiter. If no delimiter is specified then it defaults to a space.\n",
    "# It creates a list a list of those values.\n",
    "'hello world'.split()"
   ]
  },
  {
   "cell_type": "code",
   "execution_count": null,
   "metadata": {
    "collapsed": false
   },
   "outputs": [],
   "source": [
    "a = 'crime and punishment'"
   ]
  },
  {
   "cell_type": "code",
   "execution_count": null,
   "metadata": {
    "collapsed": true
   },
   "outputs": [],
   "source": []
  },
  {
   "cell_type": "code",
   "execution_count": null,
   "metadata": {
    "collapsed": false
   },
   "outputs": [],
   "source": [
    "print(a.title())\n",
    "print(a.capitalize())\n",
    "print(\"There are {} letters i...\".format(a.count('i')))\n",
    "# Whoah, that's new. The curly braces in the middle of the string acts a place holder. Strings support string formatting, meaning\n",
    "# it can accept variables and display them. \n",
    "\n",
    "this_is_new = ['orange', 'apple', 'banana', 'strawberry'] # this is a list\n",
    "for item in this_is_new: # this is also new, it's a for loop, we'll learn about that in a bit\n",
    "    print('I like to eat {}...'.format(item))\n",
    "    # How would you pluralize the words? \n"
   ]
  },
  {
   "cell_type": "code",
   "execution_count": null,
   "metadata": {
    "collapsed": false
   },
   "outputs": [],
   "source": [
    "# This is from the example above, but will print the capacity for John and it will format it. \n",
    "print(capacity)\n",
    "print(\"John's Capacity: ${:,.2f}\".format(capacity))"
   ]
  },
  {
   "cell_type": "markdown",
   "metadata": {},
   "source": [
    "## Lists\n",
    "\n",
    "https://docs.python.org/3/tutorial/datastructures.html#more-on-lists\n",
    "\n",
    "Lists are data structures. We've seen them briefly before, but they are basically containers. They have an index assigned to each element and like strings, it's zero based indexing. They can hold anything in any combination. They also have methods that can act on it. You can add, remove, pop (look that up, it's neat), count, sort, extend, insert, get the length of, reverse, and copy. "
   ]
  },
  {
   "cell_type": "code",
   "execution_count": null,
   "metadata": {
    "collapsed": false
   },
   "outputs": [],
   "source": [
    "['Lists', 'Can', 'Contain', 'Strings']"
   ]
  },
  {
   "cell_type": "code",
   "execution_count": null,
   "metadata": {
    "collapsed": false
   },
   "outputs": [],
   "source": [
    "['They', 'can', 'also', 'contain', 8439, 94.48]"
   ]
  },
  {
   "cell_type": "code",
   "execution_count": null,
   "metadata": {
    "collapsed": false
   },
   "outputs": [],
   "source": [
    "[948, 4809, 4892, 2, 380]"
   ]
  },
  {
   "cell_type": "code",
   "execution_count": null,
   "metadata": {
    "collapsed": false
   },
   "outputs": [],
   "source": [
    "# Lists can also contain other lists\n",
    "[[1, 2, 3], ['a', 'b', 'c']]"
   ]
  },
  {
   "cell_type": "markdown",
   "metadata": {},
   "source": [
    "### List Slicing\n",
    "\n",
    "It is like string slicing. In python, strings, lists, and many other objects are referred to as sequences. It's not necessarily important to remember sequence because it's a fairly general concept. But that's the common element between lists and strings, they are both sequences of objects. In the case of strings, they are referred to as immutable sequences. Meaning they can't change position. Lists are mutable, meaning they can change in place. "
   ]
  },
  {
   "cell_type": "code",
   "execution_count": null,
   "metadata": {
    "collapsed": false
   },
   "outputs": [],
   "source": [
    "# Here is a list of your favorite fruit. \n",
    "fruits = ['orange', 'apple', 'banana', 'strawberry']\n",
    "print(fruits)\n",
    "\n",
    "for ix, fruit in enumerate(fruits):\n",
    "    print(ix, '-->', fruit)"
   ]
  },
  {
   "cell_type": "code",
   "execution_count": null,
   "metadata": {
    "collapsed": false
   },
   "outputs": [],
   "source": [
    "# Let's say you decide one day that you no longer enjoy oranges as much and you very much love papayas. \n",
    "fruits[0] = 'papaya' # remember list indexes are zero based, so it starts the count at zero.\n",
    "print(fruits)\n",
    "\n",
    "for ix, fruit in enumerate(fruits):\n",
    "    print(ix, '-->', fruit)"
   ]
  },
  {
   "cell_type": "markdown",
   "metadata": {},
   "source": [
    "### List methods\n",
    "\n",
    "https://docs.python.org/3/tutorial/datastructures.html"
   ]
  },
  {
   "cell_type": "code",
   "execution_count": null,
   "metadata": {
    "collapsed": true
   },
   "outputs": [],
   "source": [
    "fruits = ['orange', 'apple', 'banana', 'strawberry', 'strawberry']"
   ]
  },
  {
   "cell_type": "code",
   "execution_count": null,
   "metadata": {
    "collapsed": true
   },
   "outputs": [],
   "source": [
    "fruits.append('kiwi')"
   ]
  },
  {
   "cell_type": "code",
   "execution_count": null,
   "metadata": {
    "collapsed": false
   },
   "outputs": [],
   "source": [
    "print(fruits)"
   ]
  },
  {
   "cell_type": "markdown",
   "metadata": {},
   "source": [
    "## Dictionary\n",
    "\n",
    "https://docs.python.org/3/tutorial/datastructures.html#dictionaries\n",
    "\n",
    "/Word for word from the link above/\n",
    "\n",
    "Another useful data type built into Python is the dictionary. Dictionaries are sometimes found in other languages as “associative memories” or “associative arrays”. Unlike sequences, which are indexed by a range of numbers, dictionaries are indexed by keys, which can be any immutable type; strings and numbers can always be keys. Tuples can be used as keys if they contain only strings, numbers, or tuples; if a tuple contains any mutable object either directly or indirectly, it cannot be used as a key. You can’t use lists as keys, since lists can be modified in place using index assignments, slice assignments, or methods like append() and extend().\n",
    "\n",
    "It is best to think of a dictionary as an unordered set of key: value pairs, with the requirement that the keys are unique (within one dictionary). A pair of braces creates an empty dictionary: {}. Placing a comma-separated list of key:value pairs within the braces adds initial key:value pairs to the dictionary; this is also the way dictionaries are written on output.\n",
    "\n",
    "The main operations on a dictionary are storing a value with some key and extracting the value given the key. It is also possible to delete a key:value pair with del. If you store using a key that is already in use, the old value associated with that key is forgotten. It is an error to extract a value using a non-existent key.\n",
    "\n",
    "Performing list(d.keys()) on a dictionary returns a list of all the keys used in the dictionary, in arbitrary order (if you want it sorted, just use sorted(d.keys()) instead). [2] To check whether a single key is in the dictionary, use the in keyword."
   ]
  },
  {
   "cell_type": "code",
   "execution_count": null,
   "metadata": {
    "collapsed": false
   },
   "outputs": [],
   "source": [
    "{'Key': 'Value', 'Key1': 'Value2'}"
   ]
  },
  {
   "cell_type": "code",
   "execution_count": null,
   "metadata": {
    "collapsed": false
   },
   "outputs": [],
   "source": [
    "prospect = {'ID': 48904, 'Name': 'Joe Smith'}"
   ]
  },
  {
   "cell_type": "code",
   "execution_count": null,
   "metadata": {
    "collapsed": false
   },
   "outputs": [],
   "source": [
    "prospect['Name']"
   ]
  },
  {
   "cell_type": "markdown",
   "metadata": {},
   "source": [
    "## Sets\n",
    "\n",
    "Python also includes a data type for sets. A set is an unordered collection with no duplicate elements. Basic uses include membership testing and eliminating duplicate entries. Set objects also support mathematical operations like union, intersection, difference, and symmetric difference."
   ]
  },
  {
   "cell_type": "code",
   "execution_count": null,
   "metadata": {
    "collapsed": false
   },
   "outputs": [],
   "source": [
    "{'Kinda', 'Like', \"Lists\"}"
   ]
  },
  {
   "cell_type": "code",
   "execution_count": null,
   "metadata": {
    "collapsed": false
   },
   "outputs": [],
   "source": [
    "{'But', 49, 'Sets', 'Store', 'Unique', 'Items'}"
   ]
  },
  {
   "cell_type": "code",
   "execution_count": null,
   "metadata": {
    "collapsed": false
   },
   "outputs": [],
   "source": [
    "{1, 1, 4, 8}"
   ]
  },
  {
   "cell_type": "markdown",
   "metadata": {},
   "source": [
    "## Comments"
   ]
  },
  {
   "cell_type": "code",
   "execution_count": null,
   "metadata": {
    "collapsed": true
   },
   "outputs": [],
   "source": [
    "# There are two ways to write comments in your code\n",
    "# The python interpreter will ignore whatever is behind the octothorpe / hashtag"
   ]
  },
  {
   "cell_type": "code",
   "execution_count": null,
   "metadata": {
    "collapsed": false
   },
   "outputs": [],
   "source": [
    "\"\"\"\n",
    "Also, the triple quotes\n",
    "\n",
    "\n",
    "\n",
    "\"\"\""
   ]
  },
  {
   "cell_type": "code",
   "execution_count": null,
   "metadata": {
    "collapsed": false
   },
   "outputs": [],
   "source": [
    "\"String\" # Comments can go after statements"
   ]
  },
  {
   "cell_type": "markdown",
   "metadata": {},
   "source": [
    "## Control\n",
    "\n",
    "- https://docs.python.org/3/tutorial/controlflow.html\n",
    "- https://docs.python.org/3/tutorial/datastructures.html#more-on-conditions\n",
    "\n",
    "### Boolean values\n",
    "(See equivalance above)\n",
    "\n",
    "Works for both strings and numbers (integers and floats)\n",
    "- '==' Equal to \n",
    "- '!=' Not Equal to \n",
    "\n",
    "Works most appropriately with numbers (integers and floats)\n",
    "- '<' Less than\n",
    "- '>' Greater than\n",
    "- '<=' Less than or equal to\n",
    "- '>=' Greater than or equal to\n",
    "\n",
    "You can make your if/elif/then statements as complex as necessary. Python will evaluate each statement (as far as necessary, it'll stop if it reaches a false and is an and statement) and if it evaluates to True, it will continue through the appropriate control block.\n",
    "\n",
    "### Truthiness (truth tables)\n",
    "- True and True is True\n",
    "- True and False is False\n",
    "- False and True is False\n",
    "- False and False is False\n",
    "- False or True is True\n",
    "- False or False is False\n",
    "- not True is False\n",
    "- not False is True\n",
    "\n",
    "There are some values in other data types that conditions will consider equivalent to True and False. When used in conditions, 0, 0.0, and '' (the empty string) are considered False, while all other values are considered True. \n",
    "\n",
    "\n",
    "### Blocks of code\n",
    "Lines of python code can be grouped togeter in blocks. You can tell when a block begins and ends from the indentation of the lines of code. There are three rules for blocks:\n",
    "1. Blocks begin when the indentation increases\n",
    "2. Blocks can contain other blocks\n",
    "3. Blocks end when the indentation decreases to zero or to a containing block's indentation\n",
    "\n",
    "\n",
    "## IF/ELIF/ELSE\n",
    "if statements follow the following syntax:\n"
   ]
  },
  {
   "cell_type": "code",
   "execution_count": null,
   "metadata": {
    "collapsed": true
   },
   "outputs": [],
   "source": [
    "if {some control statement}: \n",
    "    block of code\n",
    "elif {some other control statement}:\n",
    "    block of code\n",
    "else: \n",
    "    block of code "
   ]
  },
  {
   "cell_type": "code",
   "execution_count": null,
   "metadata": {
    "collapsed": true
   },
   "outputs": [],
   "source": [
    "capacity = 5000000 # 5 million"
   ]
  },
  {
   "cell_type": "code",
   "execution_count": null,
   "metadata": {
    "collapsed": false
   },
   "outputs": [],
   "source": [
    "mg_threshold = 100000\n",
    "if capacity > mg_threshold:\n",
    "    print(\"Major Gift Prospect\")\n",
    "else:\n",
    "    print (\"Leadership Gift Prospect\")"
   ]
  },
  {
   "cell_type": "code",
   "execution_count": null,
   "metadata": {
    "collapsed": false
   },
   "outputs": [],
   "source": [
    "mg_threshold = 100000\n",
    "pg_threshold = 5000000\n",
    "if capacity >= pg_threshold:\n",
    "    print(\"Principal Gift Prospect\")\n",
    "    if capacity == pg_threshold:\n",
    "        print('just barely')\n",
    "elif capacity >= mg_threshold:\n",
    "    print(\"Major Gift Prospect\")\n",
    "else:\n",
    "    print(\"Leadership Gift Prospect\")"
   ]
  },
  {
   "cell_type": "code",
   "execution_count": null,
   "metadata": {
    "collapsed": false
   },
   "outputs": [],
   "source": [
    "# complex statements\n",
    "known = False\n",
    "if capacity > pg_threshold and not known:\n",
    "    print(\"This person is an unknown principal gift level prospect...\")"
   ]
  },
  {
   "cell_type": "code",
   "execution_count": null,
   "metadata": {
    "collapsed": false
   },
   "outputs": [],
   "source": [
    "print(known)"
   ]
  },
  {
   "cell_type": "code",
   "execution_count": null,
   "metadata": {
    "collapsed": false
   },
   "outputs": [],
   "source": [
    "print(not known)"
   ]
  },
  {
   "cell_type": "code",
   "execution_count": null,
   "metadata": {
    "collapsed": true
   },
   "outputs": [],
   "source": []
  },
  {
   "cell_type": "markdown",
   "metadata": {
    "collapsed": true
   },
   "source": [
    "## Functions, Classes, and Methods\n",
    "\n",
    "### Functions\n",
    "A major purpose of functions is to group code that gets executed multiple times. Without a function defined, you would have to copy and paste this code each time. This leads to code duplication and if you wanted to change anything, you'd have to remember everywhere you copy and pasted. Instead, you could define a quick function and just change it once.\n",
    "\n",
    "Functions can have parameters (see below). You use the def keyword. def my_func(param1, param2): would be the first line. These parameters become like variables that can only be accessed within the function. This refers to local scope. Meaning if you define a variable within a function you cannot use it outside of the function. If you want to use it, you'll have to return a value and assign the function call to a new variable. \n",
    "\n",
    "### Classes\n",
    "\n",
    "https://docs.python.org/3/tutorial/classes.html\n",
    "\n",
    "Classes are how you create objects. Starting out, you won't need to define classes, but it's important to at least understand what's going on. This took me a little over a year to start to understand and then I took a class on it in school. There's a lot to it, so don't get overwhelmed if you don't get it. Programmers can go their entire career without writing a class. But look below. On a basic level it's pretty easy.\n",
    "\n",
    "\n",
    "### Methods\n",
    "\n",
    "Methods are functions belonging to an object."
   ]
  },
  {
   "cell_type": "code",
   "execution_count": null,
   "metadata": {
    "collapsed": false
   },
   "outputs": [],
   "source": [
    "def function_name(parameter1, param2=7):\n",
    "    # this is a block of code aka local scope,\n",
    "    # what exists within this block can only be executed within this block, once executed, you can no longer access\n",
    "    # the variables\n",
    "    new_var = parameter1 + param2\n",
    "    return new_var\n",
    "\n",
    "new_var = function_name(1, 3)\n",
    "print(new_var)"
   ]
  },
  {
   "cell_type": "code",
   "execution_count": null,
   "metadata": {
    "collapsed": true
   },
   "outputs": [],
   "source": [
    "def hello():\n",
    "    print('Howdy!')\n",
    "    print('Howdy!!!')\n",
    "    print('Hello there.')"
   ]
  },
  {
   "cell_type": "code",
   "execution_count": null,
   "metadata": {
    "collapsed": false
   },
   "outputs": [],
   "source": [
    "hello()"
   ]
  },
  {
   "cell_type": "code",
   "execution_count": null,
   "metadata": {
    "collapsed": false
   },
   "outputs": [],
   "source": [
    "hello()"
   ]
  },
  {
   "cell_type": "code",
   "execution_count": null,
   "metadata": {
    "collapsed": true
   },
   "outputs": [],
   "source": [
    "import random # this is new... it's a library!! We will use it in the function below. \n",
    "\n",
    "def getAnswer(answerNumber):\n",
    "    if answerNumber == 1:\n",
    "        return 'It is certain'\n",
    "    elif answerNumber == 2:\n",
    "        return 'It is decidedly so'\n",
    "    elif answerNumber == 3:\n",
    "        return 'Yes'\n",
    "    elif answerNumber == 4:\n",
    "        return 'Reply hazy try again'\n",
    "    elif answerNumber == 5:\n",
    "        return 'Ask again later'\n",
    "    elif answerNumber == 6:\n",
    "        return 'Concentrate and ask again'\n",
    "    elif answerNumber == 7:\n",
    "        return 'My reply is no'\n",
    "    elif answerNumber == 8:\n",
    "        return 'Outlook not so good'\n",
    "    elif answerNumber == 9:\n",
    "        return 'Very doubtful'"
   ]
  },
  {
   "cell_type": "code",
   "execution_count": null,
   "metadata": {
    "collapsed": false
   },
   "outputs": [],
   "source": [
    "r = random.randint(1, 9) # What do you think this does? \n",
    "# It's okay not to know, but look it up here: https://docs.python.org/3.5/library/random.html \n",
    "# random.randint(a, b) Return a random integer N such that a <= N <= b. Alias for randrange(a, b+1).\n",
    "# basically, it evaluates to a random number between 1 and 9. The value is stored in the r variable.\n",
    "print(r)\n",
    "fortune = getAnswer(r)\n",
    "print(fortune)"
   ]
  },
  {
   "cell_type": "code",
   "execution_count": null,
   "metadata": {
    "collapsed": true
   },
   "outputs": [],
   "source": [
    "class Car(object):\n",
    "    \n",
    "    def __init__(self, type_, color, num_doors, num_seats, **kwargs):\n",
    "        \n",
    "        self.type_ = type_\n",
    "        self.color = color\n",
    "        self.num_doors = num_doors\n",
    "        self.capacity = num_seats\n",
    "        \n",
    "        self.num_passengers = 0\n",
    "        \n",
    "    def move_forward(self):\n",
    "        pass\n",
    "    \n",
    "    def move_right(self):\n",
    "        pass\n",
    "    \n",
    "    def add_passenger(self):\n",
    "        \n",
    "        if self.num_passengers < self.capacity:\n",
    "            self.num_passengers += 1\n",
    "        else:\n",
    "            print(\"The car is full...\")\n",
    "    \n",
    "    def remove_passenger(self):\n",
    "        \n",
    "        if self.num_passengers > 0:\n",
    "            self.num_passengers -= 1\n",
    "        else:\n",
    "            print(\"Womp! You can't remove what isn't there...\")\n",
    "            \n",
    "    \n",
    "    "
   ]
  }
 ],
 "metadata": {
  "kernelspec": {
   "display_name": "Python 3",
   "language": "python",
   "name": "python3"
  },
  "language_info": {
   "codemirror_mode": {
    "name": "ipython",
    "version": 3
   },
   "file_extension": ".py",
   "mimetype": "text/x-python",
   "name": "python",
   "nbconvert_exporter": "python",
   "pygments_lexer": "ipython3",
   "version": "3.5.1"
  }
 },
 "nbformat": 4,
 "nbformat_minor": 0
}
