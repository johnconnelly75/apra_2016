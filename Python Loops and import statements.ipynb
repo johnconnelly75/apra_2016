{
 "cells": [
  {
   "cell_type": "markdown",
   "metadata": {},
   "source": [
    "## Loops\n",
    "Used on containers like lists, dicts, and even strings. \n",
    "- For \n",
    "- While"
   ]
  },
  {
   "cell_type": "markdown",
   "metadata": {},
   "source": [
    "### While loops\n",
    "\n",
    "You can make a block of code execute over and over again with a while statement. The code in a while clause will be executed as long as the while statement's condition is True. In code, a while statement always consists of the following:\n",
    "1. The while keyword\n",
    "2. A condition (that is, an expression that evaluates to True or False)\n",
    "3. A colon\n",
    "4. Starting on the next line, an indented block of code (called the while clause)\n",
    "\n",
    "Be very careful here because you can easily throw yourself into an infinite loop. If you never code an exit plan then it'll never stop. If your while statement always evaluates to True then it'll go on forever. You have to either create a counter or some sort of mechanism to get you out of the loop (unless of course it is your intention to run it forever). If this happens to you, and it will, don't worry. You didn't break anything. You can press CTRL-C and that will send a KeyboardInterrupt error to your program and cause it to stop immediately. You might have to press it many times .\n",
    "\n",
    "In the while loop, the condition is always checked at the start of each iteration (that is, each time the loop is executed). If the condition is True, then the clause is executed, and afterward, the condition is checked again. The first time the condition is found to be False, the while clause is skipped. "
   ]
  },
  {
   "cell_type": "code",
   "execution_count": null,
   "metadata": {
    "collapsed": false
   },
   "outputs": [],
   "source": [
    "spam = 0\n",
    "while spam < 5:\n",
    "    print(\"Hello, world.\")\n",
    "    spam = spam + 1"
   ]
  },
  {
   "cell_type": "code",
   "execution_count": null,
   "metadata": {
    "collapsed": false
   },
   "outputs": [],
   "source": [
    "name = ''\n",
    "while name != 'your name':\n",
    "    print('Please type your name.')\n",
    "    name = input()\n",
    "print('Thank you!')"
   ]
  },
  {
   "cell_type": "markdown",
   "metadata": {},
   "source": [
    "#### break and continue statements\n",
    "\n",
    "There is a shortcut to getting the program execution to break out of a while loop's clause early. If the execution reaches a break statement, it immediately exits the while loop's clause. \n",
    "\n",
    "Like break statements, continue statements are used inside loops. When the program execution reaches a continue statement, the program execution immediately jumps back to the start of the loop and reevaluates the loop's condition."
   ]
  },
  {
   "cell_type": "code",
   "execution_count": null,
   "metadata": {
    "collapsed": false
   },
   "outputs": [],
   "source": [
    "while True:\n",
    "    print('Please type your name.')\n",
    "    name = input()\n",
    "    if name == 'your name': \n",
    "        break\n",
    "print('Thank you!')"
   ]
  },
  {
   "cell_type": "code",
   "execution_count": null,
   "metadata": {
    "collapsed": false
   },
   "outputs": [],
   "source": [
    "# continue\n",
    "while True:\n",
    "    print('Who are you?')\n",
    "    name = input()\n",
    "    if name != 'Joe':\n",
    "        continue\n",
    "    print('Hello, Joe. What is the password? (It is a fish.)')\n",
    "    password = input()\n",
    "    if password == 'swordfish': \n",
    "        break\n",
    "print('Access Granted...')"
   ]
  },
  {
   "cell_type": "markdown",
   "metadata": {},
   "source": [
    "### For Loops\n",
    "\n",
    "For loops use the keyword 'for' and has the following syntax:\n",
    "\n",
    "a for statement looks something like for i in range(5): and always includes the following:\n",
    "1. The for keyword\n",
    "2. A variable name\n",
    "3. The in keyword\n",
    "4. A list or other iterable (in the case of above it uses the function range)\n",
    "5. A colon\n",
    "6. Starting on the next line, an indented block of code (called the for clause)\n",
    "    \n",
    "Basically, it's saying for each element in the list (or other iterable) it loops through allowing you to access each element. \n",
    "\n",
    "The x above indicates a variable whose scope is only active within the loop block. Each iteration, the x is assigned to the item in the list. \n",
    "\n",
    "\n",
    "#### Builtin Functions\n",
    "\n",
    "Like input and print before, Python comes prepackaged (built-in) with a set of functions alreay written for you. You can go here https://docs.python.org/3/library/functions.html to learn more about them. \n",
    "\n",
    "input() as you may have surmised is a function which takes input from a user and puts it into the program as a string. \n",
    "range() is basically a function (it's actually an immutable sequence type, but who cares)\n",
    "range takes in up to three variables:\n",
    "range(start, stop, step)\n",
    "\n",
    "#### Import\n",
    "\n",
    "Other than these builtins, Python comes with a set of modules called the standard library. Each module is a python pgoram that contains a related group of functions that can be embedded in your programs. For example, the math module has mathematics-related functions, the random module has random number-related functions and so on. \n",
    "\n",
    "To use the functions in the standard library, you must import the module with an import statement.\n",
    "\n",
    "An import statement consists of the following:\n",
    "1. The import keyword\n",
    "2. The name of the module\n",
    "3. Optionally, more module names, as long as they are separated by commas"
   ]
  },
  {
   "cell_type": "code",
   "execution_count": null,
   "metadata": {
    "collapsed": false
   },
   "outputs": [],
   "source": [
    "for i in range(5):\n",
    "    print(i)\n",
    "    \n",
    "i = 0\n",
    "while i < 5:\n",
    "    print(i)\n",
    "    i = i + 1"
   ]
  },
  {
   "cell_type": "code",
   "execution_count": null,
   "metadata": {
    "collapsed": false
   },
   "outputs": [],
   "source": [
    "for i in range(5):\n",
    "    print(\"Jimmy Five Times (\" + str(i) + \")\")"
   ]
  },
  {
   "cell_type": "code",
   "execution_count": null,
   "metadata": {
    "collapsed": false
   },
   "outputs": [],
   "source": [
    "total = 0\n",
    "for num in range(101):\n",
    "    total = total + num\n",
    "print(total)"
   ]
  },
  {
   "cell_type": "code",
   "execution_count": null,
   "metadata": {
    "collapsed": false
   },
   "outputs": [],
   "source": [
    "for i in range(12, 16):\n",
    "    print(i)"
   ]
  },
  {
   "cell_type": "code",
   "execution_count": null,
   "metadata": {
    "collapsed": false
   },
   "outputs": [],
   "source": [
    "for i in range(0, 10, 2):\n",
    "    print(i)"
   ]
  },
  {
   "cell_type": "code",
   "execution_count": null,
   "metadata": {
    "collapsed": false
   },
   "outputs": [],
   "source": [
    "for i in range(5, -1, -1):\n",
    "    print(i)"
   ]
  },
  {
   "cell_type": "code",
   "execution_count": null,
   "metadata": {
    "collapsed": true
   },
   "outputs": [],
   "source": [
    "billionaires = [\n",
    "    'Bill Gates', 'Amancio Ortega', 'Warren Buffett', 'Carlos Slim Helu', 'Jeff Bezos', 'Mark Zuckerberg', 'Larry Ellison', \n",
    "    'Michael Bloomberg', 'Charles Koch', 'David Koch'\n",
    "]"
   ]
  },
  {
   "cell_type": "code",
   "execution_count": null,
   "metadata": {
    "collapsed": false
   },
   "outputs": [],
   "source": [
    "for billionaire in billionaires:\n",
    "    print(billionaire)"
   ]
  },
  {
   "cell_type": "code",
   "execution_count": null,
   "metadata": {
    "collapsed": false
   },
   "outputs": [],
   "source": [
    "for x in billionaires:\n",
    "    print(x)"
   ]
  },
  {
   "cell_type": "code",
   "execution_count": null,
   "metadata": {
    "collapsed": false
   },
   "outputs": [],
   "source": [
    "for x in billionaires:\n",
    "    print(\"x is equal to\", x, \"now...\")"
   ]
  },
  {
   "cell_type": "markdown",
   "metadata": {},
   "source": [
    "## Import statements"
   ]
  },
  {
   "cell_type": "code",
   "execution_count": null,
   "metadata": {
    "collapsed": true
   },
   "outputs": [],
   "source": [
    "# Once you import a module you can access all functions within that module\n",
    "import random"
   ]
  },
  {
   "cell_type": "code",
   "execution_count": null,
   "metadata": {
    "collapsed": false
   },
   "outputs": [],
   "source": [
    "for i in range(5):\n",
    "    print(random.randint(1, 10))"
   ]
  },
  {
   "cell_type": "markdown",
   "metadata": {},
   "source": [
    "The random.randint() function call evaluates to a random integer value between the two integers that you pass it. Since randint() is in the random module, you must first type random. in front of the function name to tell Python to look for this function inside the random module. "
   ]
  },
  {
   "cell_type": "code",
   "execution_count": null,
   "metadata": {
    "collapsed": true
   },
   "outputs": [],
   "source": [
    "# other import statements\n",
    "import sys\n",
    "import os, math"
   ]
  },
  {
   "cell_type": "markdown",
   "metadata": {},
   "source": [
    "#### From import statements\n",
    "\n",
    "Alternatively, you could use the from keyword followed by the module name and then import and then the function(s) you intentd to use. With this form you won't need to use the random. (or module_name.) \n",
    "\n",
    "If you want to bring everything over you can use an asterisk.\n",
    "\n",
    "It is a best practice to not bring everything over with an asterisk as it makes it a bit more unreadable. If you're using function, class, or variable names from a different module then you'll spend a lot more time trying to track it down. "
   ]
  },
  {
   "cell_type": "code",
   "execution_count": null,
   "metadata": {
    "collapsed": true
   },
   "outputs": [],
   "source": [
    "from random import randint"
   ]
  },
  {
   "cell_type": "code",
   "execution_count": null,
   "metadata": {
    "collapsed": true
   },
   "outputs": [],
   "source": [
    "from math import *"
   ]
  },
  {
   "cell_type": "code",
   "execution_count": null,
   "metadata": {
    "collapsed": false
   },
   "outputs": [],
   "source": [
    "pi"
   ]
  },
  {
   "cell_type": "code",
   "execution_count": null,
   "metadata": {
    "collapsed": true
   },
   "outputs": [],
   "source": []
  }
 ],
 "metadata": {
  "kernelspec": {
   "display_name": "Python 3",
   "language": "python",
   "name": "python3"
  },
  "language_info": {
   "codemirror_mode": {
    "name": "ipython",
    "version": 3
   },
   "file_extension": ".py",
   "mimetype": "text/x-python",
   "name": "python",
   "nbconvert_exporter": "python",
   "pygments_lexer": "ipython3",
   "version": "3.5.1"
  }
 },
 "nbformat": 4,
 "nbformat_minor": 0
}
